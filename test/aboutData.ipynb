{
 "cells": [
  {
   "attachments": {},
   "cell_type": "markdown",
   "id": "d2316784",
   "metadata": {},
   "source": [
    "# 數據庫"
   ]
  },
  {
   "attachments": {},
   "cell_type": "markdown",
   "id": "2917f220",
   "metadata": {},
   "source": [
    "### 引入 Database 類\n",
    "- flask連接SQl  \n",
    "- 建立 db\n",
    "> 自動根據 格式 (sql / db) 去進行相對應的行動  "
   ]
  },
  {
   "cell_type": "code",
   "execution_count": null,
   "id": "f0d59a5c",
   "metadata": {},
   "outputs": [],
   "source": [
    "import Database as db"
   ]
  },
  {
   "attachments": {},
   "cell_type": "markdown",
   "id": "70b67576",
   "metadata": {},
   "source": [
    "#### 建立 DataBase\n",
    "注要不要加上路徑\n",
    "#### 例子：\n",
    "db1 = db.DataBase(\"chat.sql\") 可以  \n",
    "db1 = db.DataBase(\"/data/chat.sql\") 不可以"
   ]
  },
  {
   "cell_type": "code",
   "execution_count": null,
   "id": "753262b2",
   "metadata": {},
   "outputs": [],
   "source": [
    "db1 = db.DataBase(\"chat.sql\")"
   ]
  },
  {
   "attachments": {},
   "cell_type": "markdown",
   "id": "d08ab3c5",
   "metadata": {},
   "source": [
    "#### 連接 DataDase\n",
    "可以加上路徑"
   ]
  },
  {
   "cell_type": "code",
   "execution_count": null,
   "id": "51a7333e",
   "metadata": {},
   "outputs": [],
   "source": [
    "db2 = db.DataBase(\"chat.db\")"
   ]
  },
  {
   "attachments": {},
   "cell_type": "markdown",
   "id": "678694c2",
   "metadata": {},
   "source": [
    "### 運行 sql\n",
    "只可用於 連接 db格式"
   ]
  },
  {
   "cell_type": "code",
   "execution_count": null,
   "id": "b4142c67",
   "metadata": {},
   "outputs": [],
   "source": [
    "db2.runSQL(\"SELECT * FROM user\")"
   ]
  },
  {
   "attachments": {},
   "cell_type": "markdown",
   "id": "31bfc0d3",
   "metadata": {},
   "source": [
    "# 處理數據"
   ]
  },
  {
   "attachments": {},
   "cell_type": "markdown",
   "id": "4506dd0d",
   "metadata": {},
   "source": [
    "### 引入 ReadData類"
   ]
  },
  {
   "cell_type": "code",
   "execution_count": null,
   "id": "cf5b203d-6f8e-4ed1-8c64-ed923e15c862",
   "metadata": {},
   "outputs": [],
   "source": [
    "import ReadData as rd"
   ]
  },
  {
   "attachments": {},
   "cell_type": "markdown",
   "id": "e3190f97",
   "metadata": {},
   "source": [
    "### 讀取數據\n",
    "支持格式\n",
    "- db (sqlite3)\n",
    "- csv\n",
    "- json\n",
    "- xlsx"
   ]
  },
  {
   "cell_type": "code",
   "execution_count": null,
   "id": "2097dcb1",
   "metadata": {},
   "outputs": [],
   "source": [
    "# 如果為 db 格式 需要輸入 Table 名字 的 參數\n",
    "data = rd.ReadData(\"chat.db\", \"user\")\n",
    "# 其他只需一個參數\n",
    "# data = rd.ReadData(\"test.csv\")"
   ]
  },
  {
   "attachments": {},
   "cell_type": "markdown",
   "id": "92576e48",
   "metadata": {},
   "source": [
    "### 觀察 Data 情況"
   ]
  },
  {
   "cell_type": "code",
   "execution_count": null,
   "id": "3eee30a1",
   "metadata": {},
   "outputs": [],
   "source": [
    "data.table()"
   ]
  },
  {
   "attachments": {},
   "cell_type": "markdown",
   "id": "581db6a9",
   "metadata": {},
   "source": [
    "### 輸出格式\n",
    "支持格式\n",
    "- csv\n",
    "- json\n",
    "- xlsx\n",
    "\n",
    "> 如果 格式為 all 或 All (大小寫不敏感)，會輸出全部格式"
   ]
  },
  {
   "cell_type": "code",
   "execution_count": null,
   "id": "0ccdd503",
   "metadata": {},
   "outputs": [],
   "source": [
    "data.output(\"test.all\")"
   ]
  }
 ],
 "metadata": {
  "kernelspec": {
   "display_name": "Python 3 (ipykernel)",
   "language": "python",
   "name": "python3"
  },
  "language_info": {
   "codemirror_mode": {
    "name": "ipython",
    "version": 3
   },
   "file_extension": ".py",
   "mimetype": "text/x-python",
   "name": "python",
   "nbconvert_exporter": "python",
   "pygments_lexer": "ipython3",
   "version": "3.11.0"
  }
 },
 "nbformat": 4,
 "nbformat_minor": 5
}
