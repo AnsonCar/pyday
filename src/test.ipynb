{
 "cells": [
  {
   "cell_type": "code",
   "execution_count": 1,
   "metadata": {},
   "outputs": [
    {
     "name": "stdout",
     "output_type": "stream",
     "text": [
      "Did Not Have File: /Users/ansoncar/Desktop/MyProject/pyday/src/pydayData/train.csv\n"
     ]
    }
   ],
   "source": [
    "from pyday import *\n",
    "dr = DataReader()\n",
    "# dr.setPath(\"/Users/ansoncar/Desktop/MyProject/pyday/pydayData/Reader\")\n",
    "# dr.setToPath(\"/Users/ansoncar/Desktop/MyProject/pyday/pydayDist/Reader\")\n",
    "\n",
    "dr.inFile(\"train.csv\")\n",
    "dr.toFile(\"test.json\")"
   ]
  },
  {
   "cell_type": "code",
   "execution_count": 1,
   "metadata": {},
   "outputs": [
    {
     "name": "stdout",
     "output_type": "stream",
     "text": [
      "|-- pyday\n",
      "    |-- DataVis\n",
      "    |-- DataReader\n",
      "    |-- basic\n",
      "    |-- __init__.py\n",
      "    |-- Data2PDF\n",
      "    |-- Tool\n",
      "|-- test.py\n",
      "|-- script\n",
      "    |-- set.sh\n",
      "    |-- build.sh\n",
      "    |-- font.sh\n",
      "|-- test.ipynb\n"
     ]
    }
   ],
   "source": [
    "from pyday import dirTree\n",
    "exclude_list = [\".DS_Store\", \".github\", \".venv\", \".git\", \".gitignore\", \".gitattributes\", \"test\", \"__pycache__\"]\n",
    "dirTree( \".\", exclude_list, max_depth=1 )"
   ]
  },
  {
   "cell_type": "code",
   "execution_count": 2,
   "metadata": {},
   "outputs": [
    {
     "name": "stdout",
     "output_type": "stream",
     "text": [
      "|-- DataVis\n",
      "|-- DataReader\n",
      "|-- basic\n",
      "|-- __init__.py\n",
      "|-- Data2PDF\n",
      "|-- Tool\n"
     ]
    }
   ],
   "source": [
    "dirTree( \"/Users/ansoncar/Desktop/MyProject/pyday/src/pyday\", exclude_list, max_depth=0 )"
   ]
  },
  {
   "cell_type": "code",
   "execution_count": null,
   "metadata": {},
   "outputs": [],
   "source": []
  }
 ],
 "metadata": {
  "kernelspec": {
   "display_name": "Python 3",
   "language": "python",
   "name": "python3"
  },
  "language_info": {
   "codemirror_mode": {
    "name": "ipython",
    "version": 3
   },
   "file_extension": ".py",
   "mimetype": "text/x-python",
   "name": "python",
   "nbconvert_exporter": "python",
   "pygments_lexer": "ipython3",
   "version": "3.11.0"
  },
  "orig_nbformat": 4
 },
 "nbformat": 4,
 "nbformat_minor": 2
}
